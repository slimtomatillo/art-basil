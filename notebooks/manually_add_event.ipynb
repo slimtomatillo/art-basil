{
 "cells": [
  {
   "cell_type": "code",
   "execution_count": 17,
   "id": "cb5eba20",
   "metadata": {},
   "outputs": [],
   "source": [
    "# Imports\n",
    "import json\n",
    "from hashlib import md5\n",
    "\n",
    "DB_FILE = '../docs/events_db.json'\n",
    "EVENT_TAGS = ['exhibition',]\n",
    "\n",
    "def load_db():\n",
    "    \"\"\"Load the event database from a JSON file.\"\"\"\n",
    "    try:\n",
    "        with open(DB_FILE, 'r') as file:\n",
    "            return json.load(file)\n",
    "    except FileNotFoundError:\n",
    "        return {}\n",
    "\n",
    "def save_db(db):\n",
    "    \"\"\"Save the event database to a JSON file.\"\"\"\n",
    "    with open(DB_FILE, 'w') as file:\n",
    "        json.dump(db, file, indent=4, default=str)\n",
    "\n",
    "def generate_event_hash(event_details):\n",
    "    \"\"\"Generate a hash of the event details to detect changes.\"\"\"\n",
    "    event_string = json.dumps(event_details, sort_keys=True, default=str)\n",
    "    return md5(event_string.encode('utf-8')).hexdigest()\n",
    "\n",
    "def generate_unique_identifier(event_details):\n",
    "    \"\"\"Generate a unique identifier for an event.\"\"\"\n",
    "    return f\"{event_details['name']}-{event_details['venue']}\"\n",
    "\n",
    "def process_event(event_details):\n",
    "    \"\"\"Check if an event is new or has changed and update the database accordingly.\"\"\"\n",
    "    db = load_db()\n",
    "    site_events = db.get(event_details['venue'], {})\n",
    "    \n",
    "    event_id = generate_unique_identifier(event_details)\n",
    "    event_hash = generate_event_hash(event_details)\n",
    "\n",
    "    if event_id not in site_events or site_events[event_id]['hash'] != event_hash:\n",
    "        print(f\"Updating event: {event_details['name']}\")\n",
    "        site_events[event_id] = {**event_details, 'hash': event_hash}\n",
    "        db[event_details['venue']] = site_events\n",
    "        save_db(db)\n",
    "    else:\n",
    "        print(f\"No changes detected for event: {event_details['name']}\")"
   ]
  },
  {
   "cell_type": "code",
   "execution_count": 18,
   "id": "0f2b32f7",
   "metadata": {},
   "outputs": [
    {
     "name": "stdout",
     "output_type": "stream",
     "text": [
      "{\n",
      "    \"name\": \"Intimate Nature: Plants and Landscapes of Central California Paintings by Jeanne Rosen Sofen\",\n",
      "    \"venue\": \"San Francisco Botanical Gardens (Helen Crocker Russell Library)\",\n",
      "    \"description\": \"Using a variety of painting techniques, Jeanne Rosen Sofen has created a loving tribute to the beauty and diversity of Central California, from Sierra Nevada mountains to oak woodlands, to coastal hills and redwoods. A lifetime of enjoying and observing the natural world combined with years of exploring painting techniques has brought us this exciting exhibit of paintings of plants and landscapes.\",\n",
      "    \"tags\": [\n",
      "        \"exhibition\",\n",
      "        \"current\",\n",
      "        \"free\"\n",
      "    ],\n",
      "    \"phase\": \"current\",\n",
      "    \"dates\": {\n",
      "        \"start\": \"2024-02-01\",\n",
      "        \"end\": \"2024-05-31\"\n",
      "    },\n",
      "    \"links\": [\n",
      "        {\n",
      "            \"link\": \"https://gggp.org/art-exhibit-jeanne-rosen-sofen/\",\n",
      "            \"description\": \"Event Page\"\n",
      "        }\n",
      "    ]\n",
      "}\n"
     ]
    }
   ],
   "source": [
    "# Identify event details\n",
    "event_name = 'Intimate Nature: Plants and Landscapes of Central California Paintings by Jeanne Rosen Sofen'\n",
    "venue = 'San Francisco Botanical Gardens (Helen Crocker Russell Library)'\n",
    "event_description = 'Using a variety of painting techniques, Jeanne Rosen Sofen has created a loving tribute to the beauty and diversity of Central California, from Sierra Nevada mountains to oak woodlands, to coastal hills and redwoods. A lifetime of enjoying and observing the natural world combined with years of exploring painting techniques has brought us this exciting exhibit of paintings of plants and landscapes.'\n",
    "phase = 'current'\n",
    "tags = ['exhibition'] + [phase] + ['free']\n",
    "start_date = '2024-02-01'\n",
    "end_date = '2024-05-31'\n",
    "event_link = 'https://gggp.org/art-exhibit-jeanne-rosen-sofen/'\n",
    "\n",
    "event_details = {\n",
    "    'name': event_name,\n",
    "    'venue': venue,\n",
    "    'description': event_description,\n",
    "    'tags': tags,\n",
    "    'phase': phase,\n",
    "    'dates': {'start': start_date, 'end': end_date},\n",
    "    'links': [\n",
    "        {\n",
    "            'link': event_link,\n",
    "            'description': 'Event Page'\n",
    "        },\n",
    "    ],\n",
    "\n",
    "}\n",
    "\n",
    "print(json.dumps(event_details, indent=4))"
   ]
  },
  {
   "cell_type": "code",
   "execution_count": 19,
   "id": "c8641a82",
   "metadata": {},
   "outputs": [
    {
     "name": "stdout",
     "output_type": "stream",
     "text": [
      "Updating event: Intimate Nature: Plants and Landscapes of Central California Paintings by Jeanne Rosen Sofen\n"
     ]
    }
   ],
   "source": [
    "# Save event info\n",
    "process_event(event_details)"
   ]
  },
  {
   "cell_type": "code",
   "execution_count": null,
   "id": "22315b9e",
   "metadata": {},
   "outputs": [],
   "source": []
  }
 ],
 "metadata": {
  "kernelspec": {
   "display_name": "Python 3 (ipykernel)",
   "language": "python",
   "name": "python3"
  },
  "language_info": {
   "codemirror_mode": {
    "name": "ipython",
    "version": 3
   },
   "file_extension": ".py",
   "mimetype": "text/x-python",
   "name": "python",
   "nbconvert_exporter": "python",
   "pygments_lexer": "ipython3",
   "version": "3.9.19"
  }
 },
 "nbformat": 4,
 "nbformat_minor": 5
}
