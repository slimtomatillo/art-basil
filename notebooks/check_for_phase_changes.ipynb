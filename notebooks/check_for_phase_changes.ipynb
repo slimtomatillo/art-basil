{
 "cells": [
  {
   "cell_type": "markdown",
   "id": "6f4113c2",
   "metadata": {},
   "source": [
    "## This notebook can be used to check for manually added events for which the phase (current, future, past) should be changed."
   ]
  },
  {
   "cell_type": "code",
   "execution_count": 53,
   "id": "39405820",
   "metadata": {},
   "outputs": [],
   "source": [
    "# Imports\n",
    "import json\n",
    "from hashlib import md5\n",
    "from datetime import datetime\n",
    "\n",
    "DB_FILE = '../docs/events_db.json'\n",
    "EVENT_TAGS = ['exhibition', 'free']\n",
    "\n",
    "def load_db():\n",
    "    \"\"\"Load the event database from a JSON file.\"\"\"\n",
    "    try:\n",
    "        with open(DB_FILE, 'r') as file:\n",
    "            return json.load(file)\n",
    "    except FileNotFoundError:\n",
    "        return {}\n",
    "\n",
    "def save_db(db):\n",
    "    \"\"\"Save the event database to a JSON file.\"\"\"\n",
    "    with open(DB_FILE, 'w') as file:\n",
    "        json.dump(db, file, indent=4, default=str)\n",
    "\n",
    "def generate_event_hash(event_details):\n",
    "    \"\"\"Generate a hash of the event details to detect changes.\"\"\"\n",
    "    event_string = json.dumps(event_details, sort_keys=True, default=str)\n",
    "    return md5(event_string.encode('utf-8')).hexdigest()\n",
    "\n",
    "def generate_unique_identifier(event_details):\n",
    "    \"\"\"Generate a unique identifier for an event.\"\"\"\n",
    "    return f\"{event_details['name']}-{event_details['venue']}\"\n",
    "\n",
    "def process_event(event_details):\n",
    "    \"\"\"Check if an event is new or has changed and update the database accordingly.\"\"\"\n",
    "    db = load_db()\n",
    "    site_events = db.get(event_details['venue'], {})\n",
    "    \n",
    "    event_id = generate_unique_identifier(event_details)\n",
    "    event_hash = generate_event_hash(event_details)\n",
    "\n",
    "    if event_id not in site_events or site_events[event_id]['hash'] != event_hash:\n",
    "        print(f\"Updating event: {event_details['name']}\")\n",
    "        site_events[event_id] = {**event_details, 'hash': event_hash}\n",
    "        db[event_details['venue']] = site_events\n",
    "        save_db(db)\n",
    "    else:\n",
    "        print(f\"No changes detected for event: {event_details['name']}\")"
   ]
  },
  {
   "cell_type": "code",
   "execution_count": 62,
   "id": "2c72f8c9",
   "metadata": {},
   "outputs": [],
   "source": [
    "def check_events():\n",
    "    \"\"\"\n",
    "    Check all events for whether the 'past', 'current', or 'future' tags should be adjusted.\n",
    "    \"\"\"\n",
    "    # Get today's date\n",
    "    today = datetime.today().date()\n",
    "    \n",
    "    # Load events\n",
    "    db = load_db()\n",
    "    \n",
    "    # Flatten the db into a list of event dictionaries\n",
    "    events_list = []\n",
    "    for category in db.values():\n",
    "        for event in category.values():\n",
    "            events_list.append(event)\n",
    "            \n",
    "    # Count events needing changes\n",
    "    c = 0\n",
    "                  \n",
    "    # Check, for all events, whether the event has ended\n",
    "    for event in events_list:\n",
    "        # Try to convert the end date into a datetime object\n",
    "        try:\n",
    "            end_date = datetime.strptime(event['dates']['end'], '%Y-%m-%d').date()\n",
    "        # If it can't be done, move on to the next event (this means the event passed the check)\n",
    "        except ValueError:\n",
    "            continue\n",
    "        # Fail the test if the event is marked 'current' but the end date has passed\n",
    "        if ('current' in event['tags']) and (end_date < today):\n",
    "            c += 1\n",
    "            print(f\"{event['name']} @ {event['venue']} has changed from 'current' to 'past'. Phase and tags need to be updated.\")\n",
    "\n",
    "    # Check, for all events, whether any future events are now happening or have passed\n",
    "    for event in events_list:\n",
    "        # Try to convert the start date into a datetime object\n",
    "        try:\n",
    "            start_date = datetime.strptime(event['dates']['start'], '%Y-%m-%d').date()\n",
    "            end_date = datetime.strptime(event['dates']['end'], '%Y-%m-%d').date()\n",
    "        # If it can't be done, move on to the next event (this means the event passed the check)\n",
    "        except ValueError:\n",
    "            continue\n",
    "        # Fail the test if the event is marked 'future' but the start date has passed and the end date hasn't\n",
    "        if ('future' in event['tags']) and (start_date < today) and (end_date >= today):\n",
    "            c += 1\n",
    "            print(f\"{event['name']} @ {event['venue']} has changed from 'future' to 'current'. Phase and tags need to be updated.\")\n",
    "        elif ('future' in event['tags']) and (end_date < today):\n",
    "            c += 1\n",
    "            print(f\"{event['name']} @ {event['venue']} has changed from 'future' to 'past'. Phase and tags need to be updated.\")\n",
    "            \n",
    "    print(f'{c} events need to be updated.')"
   ]
  },
  {
   "cell_type": "code",
   "execution_count": 63,
   "id": "8c3db0d2",
   "metadata": {},
   "outputs": [
    {
     "name": "stdout",
     "output_type": "stream",
     "text": [
      "0 events need to be updated.\n"
     ]
    }
   ],
   "source": [
    "check_events()"
   ]
  },
  {
   "cell_type": "code",
   "execution_count": null,
   "id": "4b1398a6",
   "metadata": {},
   "outputs": [],
   "source": []
  }
 ],
 "metadata": {
  "kernelspec": {
   "display_name": "Python 3 (ipykernel)",
   "language": "python",
   "name": "python3"
  },
  "language_info": {
   "codemirror_mode": {
    "name": "ipython",
    "version": 3
   },
   "file_extension": ".py",
   "mimetype": "text/x-python",
   "name": "python",
   "nbconvert_exporter": "python",
   "pygments_lexer": "ipython3",
   "version": "3.9.19"
  }
 },
 "nbformat": 4,
 "nbformat_minor": 5
}
